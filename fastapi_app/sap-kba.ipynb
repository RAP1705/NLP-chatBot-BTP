{
 "cells": [
  {
   "cell_type": "code",
   "execution_count": 1,
   "metadata": {},
   "outputs": [
    {
     "name": "stdout",
     "output_type": "stream",
     "text": [
      "Requirement already satisfied: pandas in c:\\sap btp ai\\genai\\git\\gen-ai-3\\.venv\\lib\\site-packages (2.2.2)\n",
      "Requirement already satisfied: nltk in c:\\sap btp ai\\genai\\git\\gen-ai-3\\.venv\\lib\\site-packages (3.9.1)\n",
      "Requirement already satisfied: scikit-learn in c:\\sap btp ai\\genai\\git\\gen-ai-3\\.venv\\lib\\site-packages (1.5.1)\n",
      "Requirement already satisfied: openpyxl in c:\\sap btp ai\\genai\\git\\gen-ai-3\\.venv\\lib\\site-packages (3.1.5)\n",
      "Requirement already satisfied: numpy>=1.26.0 in c:\\sap btp ai\\genai\\git\\gen-ai-3\\.venv\\lib\\site-packages (from pandas) (2.1.0)\n",
      "Requirement already satisfied: python-dateutil>=2.8.2 in c:\\sap btp ai\\genai\\git\\gen-ai-3\\.venv\\lib\\site-packages (from pandas) (2.9.0.post0)\n",
      "Requirement already satisfied: pytz>=2020.1 in c:\\sap btp ai\\genai\\git\\gen-ai-3\\.venv\\lib\\site-packages (from pandas) (2024.1)\n",
      "Requirement already satisfied: tzdata>=2022.7 in c:\\sap btp ai\\genai\\git\\gen-ai-3\\.venv\\lib\\site-packages (from pandas) (2024.1)\n",
      "Requirement already satisfied: click in c:\\sap btp ai\\genai\\git\\gen-ai-3\\.venv\\lib\\site-packages (from nltk) (8.1.7)\n",
      "Requirement already satisfied: joblib in c:\\sap btp ai\\genai\\git\\gen-ai-3\\.venv\\lib\\site-packages (from nltk) (1.4.2)\n",
      "Requirement already satisfied: regex>=2021.8.3 in c:\\sap btp ai\\genai\\git\\gen-ai-3\\.venv\\lib\\site-packages (from nltk) (2024.7.24)\n",
      "Requirement already satisfied: tqdm in c:\\sap btp ai\\genai\\git\\gen-ai-3\\.venv\\lib\\site-packages (from nltk) (4.66.5)\n",
      "Requirement already satisfied: scipy>=1.6.0 in c:\\sap btp ai\\genai\\git\\gen-ai-3\\.venv\\lib\\site-packages (from scikit-learn) (1.14.1)\n",
      "Requirement already satisfied: threadpoolctl>=3.1.0 in c:\\sap btp ai\\genai\\git\\gen-ai-3\\.venv\\lib\\site-packages (from scikit-learn) (3.5.0)\n",
      "Requirement already satisfied: et-xmlfile in c:\\sap btp ai\\genai\\git\\gen-ai-3\\.venv\\lib\\site-packages (from openpyxl) (1.1.0)\n",
      "Requirement already satisfied: six>=1.5 in c:\\sap btp ai\\genai\\git\\gen-ai-3\\.venv\\lib\\site-packages (from python-dateutil>=2.8.2->pandas) (1.16.0)\n",
      "Requirement already satisfied: colorama in c:\\sap btp ai\\genai\\git\\gen-ai-3\\.venv\\lib\\site-packages (from click->nltk) (0.4.6)\n"
     ]
    }
   ],
   "source": [
    "!pip install pandas nltk scikit-learn openpyxl"
   ]
  },
  {
   "cell_type": "code",
   "execution_count": 2,
   "metadata": {},
   "outputs": [
    {
     "name": "stderr",
     "output_type": "stream",
     "text": [
      "[nltk_data] Downloading package punkt to C:\\Users\\Jason San\n",
      "[nltk_data]     uWu\\AppData\\Roaming\\nltk_data...\n",
      "[nltk_data]   Package punkt is already up-to-date!\n",
      "[nltk_data] Downloading package wordnet to C:\\Users\\Jason San\n",
      "[nltk_data]     uWu\\AppData\\Roaming\\nltk_data...\n",
      "[nltk_data]   Package wordnet is already up-to-date!\n"
     ]
    },
    {
     "data": {
      "text/plain": [
       "True"
      ]
     },
     "execution_count": 2,
     "metadata": {},
     "output_type": "execute_result"
    }
   ],
   "source": [
    "import pandas as pd\n",
    "import nltk\n",
    "import string\n",
    "from sklearn.feature_extraction.text import TfidfVectorizer\n",
    "from sklearn.metrics.pairwise import cosine_similarity\n",
    "\n",
    "nltk.download('punkt')\n",
    "nltk.download('wordnet')\n"
   ]
  },
  {
   "cell_type": "code",
   "execution_count": 3,
   "metadata": {},
   "outputs": [
    {
     "data": {
      "text/html": [
       "<div>\n",
       "<style scoped>\n",
       "    .dataframe tbody tr th:only-of-type {\n",
       "        vertical-align: middle;\n",
       "    }\n",
       "\n",
       "    .dataframe tbody tr th {\n",
       "        vertical-align: top;\n",
       "    }\n",
       "\n",
       "    .dataframe thead th {\n",
       "        text-align: right;\n",
       "    }\n",
       "</style>\n",
       "<table border=\"1\" class=\"dataframe\">\n",
       "  <thead>\n",
       "    <tr style=\"text-align: right;\">\n",
       "      <th></th>\n",
       "      <th>Question</th>\n",
       "      <th>Answer</th>\n",
       "    </tr>\n",
       "  </thead>\n",
       "  <tbody>\n",
       "    <tr>\n",
       "      <th>0</th>\n",
       "      <td>How to create a sales order in SAP?</td>\n",
       "      <td>To create a sales order in SAP, use transactio...</td>\n",
       "    </tr>\n",
       "    <tr>\n",
       "      <th>1</th>\n",
       "      <td>How to generate a vendor invoice in SAP?</td>\n",
       "      <td>To generate a vendor invoice in SAP, use trans...</td>\n",
       "    </tr>\n",
       "    <tr>\n",
       "      <th>2</th>\n",
       "      <td>How to post GL in SAP?</td>\n",
       "      <td>To post a GL entry in SAP, use transaction cod...</td>\n",
       "    </tr>\n",
       "    <tr>\n",
       "      <th>3</th>\n",
       "      <td>How to create a purchase order in SAP?</td>\n",
       "      <td>To create a purchase order in SAP, use transac...</td>\n",
       "    </tr>\n",
       "    <tr>\n",
       "      <th>4</th>\n",
       "      <td>How to run a material availability check in SAP?</td>\n",
       "      <td>To run a material availability check in SAP, u...</td>\n",
       "    </tr>\n",
       "  </tbody>\n",
       "</table>\n",
       "</div>"
      ],
      "text/plain": [
       "                                           Question  \\\n",
       "0               How to create a sales order in SAP?   \n",
       "1          How to generate a vendor invoice in SAP?   \n",
       "2                            How to post GL in SAP?   \n",
       "3            How to create a purchase order in SAP?   \n",
       "4  How to run a material availability check in SAP?   \n",
       "\n",
       "                                              Answer  \n",
       "0  To create a sales order in SAP, use transactio...  \n",
       "1  To generate a vendor invoice in SAP, use trans...  \n",
       "2  To post a GL entry in SAP, use transaction cod...  \n",
       "3  To create a purchase order in SAP, use transac...  \n",
       "4  To run a material availability check in SAP, u...  "
      ]
     },
     "execution_count": 3,
     "metadata": {},
     "output_type": "execute_result"
    }
   ],
   "source": [
    "def load_data(path, sheet_name):\n",
    "    xls_file = pd.ExcelFile(path)\n",
    "    dataframe = pd.read_excel(xls_file, sheet_name)\n",
    "    dataframe = dataframe[['Question', 'Answer']]\n",
    "    dataframe = dataframe.dropna().reset_index(drop=True)\n",
    "    return dataframe\n",
    "\n",
    "df = load_data(\"FAQs.xlsx\", \"Catalogs\")\n",
    "df.head()\n"
   ]
  },
  {
   "cell_type": "code",
   "execution_count": 4,
   "metadata": {},
   "outputs": [],
   "source": [
    "def clean_text(text):\n",
    "    word_tokenizer = nltk.tokenize.WhitespaceTokenizer()\n",
    "    lemmatizer = nltk.stem.WordNetLemmatizer()\n",
    "    remove_punct_dict = dict((ord(punct), None) for punct in string.punctuation)\n",
    "    tokens = word_tokenizer.tokenize(text)\n",
    "    lemmatized_tokens = [lemmatizer.lemmatize(word.lower().translate(remove_punct_dict)) for word in tokens]\n",
    "    # print(f\"Original text: {text}\")\n",
    "    # print(f\"Tokenized: {tokens}\")\n",
    "    # print(f\"Lemmatized: {lemmatized_tokens}\")\n",
    "    return lemmatized_tokens\n"
   ]
  },
  {
   "cell_type": "code",
   "execution_count": 6,
   "metadata": {},
   "outputs": [],
   "source": [
    "def process_question(user_question, dataframe):\n",
    "    questions = dataframe[\"Question\"].tolist()\n",
    "    questions.append(user_question)\n",
    "    TfidfVec = TfidfVectorizer(tokenizer=clean_text, stop_words='english')\n",
    "    tfidf = TfidfVec.fit_transform(questions)\n",
    "    \n",
    "    print(\"\\nTF-IDF Matrix:\")\n",
    "    # print(tfidf.toarray())\n",
    " \n",
    "    \n",
    "    vals = cosine_similarity(tfidf[-1], tfidf)\n",
    "    print(\"\\nCosine Similarity Values:\")\n",
    "    print(vals)\n",
    "    \n",
    "    \n",
    "    idx = vals.argsort()[0][-2]\n",
    "    print(\"\\nIndex of closest question:\", idx)\n",
    "    \n",
    "    flat = vals.flatten()\n",
    "    flat.sort()\n",
    "    # print()\n",
    "    req_tfidf = flat[-2]\n",
    "\n",
    "    del questions[-1]\n",
    "\n",
    "    if req_tfidf == 0:\n",
    "        return \"Sorry, I didn't get you\"\n",
    "    else:\n",
    "        return dataframe.Answer[idx]\n"
   ]
  },
  {
   "cell_type": "code",
   "execution_count": 7,
   "metadata": {},
   "outputs": [
    {
     "name": "stderr",
     "output_type": "stream",
     "text": [
      "c:\\SAP BTP AI\\GenAI\\git\\gen-ai-3\\.venv\\Lib\\site-packages\\sklearn\\feature_extraction\\text.py:521: UserWarning: The parameter 'token_pattern' will not be used since 'tokenizer' is not None'\n",
      "  warnings.warn(\n"
     ]
    },
    {
     "name": "stdout",
     "output_type": "stream",
     "text": [
      "\n",
      "TF-IDF Matrix:\n",
      "\n",
      "Cosine Similarity Values:\n",
      "[[0.         0.29266741 0.         0.         0.         0.\n",
      "  0.         0.4727373  0.         0.         0.         0.\n",
      "  0.         0.         0.         0.         1.        ]]\n",
      "\n",
      "Index of closest question: 7\n",
      "Question: invoice procedure?\n",
      "Answer: To create an invoice in SAP, use transaction code VF01. Enter the billing document and process the invoice.\n"
     ]
    },
    {
     "name": "stderr",
     "output_type": "stream",
     "text": [
      "c:\\SAP BTP AI\\GenAI\\git\\gen-ai-3\\.venv\\Lib\\site-packages\\sklearn\\feature_extraction\\text.py:406: UserWarning: Your stop_words may be inconsistent with your preprocessing. Tokenizing the stop words generated tokens ['ha', 'u', 'wa'] not in stop_words.\n",
      "  warnings.warn(\n"
     ]
    }
   ],
   "source": [
    "user_question = \"invoice procedure?\"\n",
    "answer = process_question(user_question, df)\n",
    "print(\"Question:\", user_question)\n",
    "print(\"Answer:\", answer)\n"
   ]
  }
 ],
 "metadata": {
  "kernelspec": {
   "display_name": "Python 3",
   "language": "python",
   "name": "python3"
  },
  "language_info": {
   "codemirror_mode": {
    "name": "ipython",
    "version": 3
   },
   "file_extension": ".py",
   "mimetype": "text/x-python",
   "name": "python",
   "nbconvert_exporter": "python",
   "pygments_lexer": "ipython3",
   "version": "3.12.2"
  }
 },
 "nbformat": 4,
 "nbformat_minor": 2
}
